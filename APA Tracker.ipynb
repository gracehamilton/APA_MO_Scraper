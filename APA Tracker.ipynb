{
 "cells": [
  {
   "cell_type": "code",
   "execution_count": 1,
   "id": "86e3c661",
   "metadata": {},
   "outputs": [],
   "source": [
    "import petpy\n",
    "#import flask for webhook stuff later"
   ]
  },
  {
   "cell_type": "code",
   "execution_count": 2,
   "id": "d84a09b3",
   "metadata": {},
   "outputs": [],
   "source": [
    "def sjoin(x): return ';'.join(x[x.notnull()].astype(str))\n",
    "def join_columns(df):\n",
    "    cols = {}\n",
    "    for c in df.columns[1:]:\n",
    "        cols[c] = c[:-2]\n",
    "    return df.rename(columns = cols)"
   ]
  },
  {
   "cell_type": "code",
   "execution_count": 3,
   "id": "50feecf8",
   "metadata": {},
   "outputs": [],
   "source": [
    "class dogData():\n",
    "    def __init__(self, override = False): #override to autopopulate at-risk list\n",
    "        self.data = join_columns(self.getData()).groupby(level=0, axis=1).apply(lambda x: x.apply(sjoin, axis=1)).set_index(\"organization_animal_id\")\n",
    "        self.override = override\n",
    "        self.data.to_csv(\"dogData.csv\")\n",
    "    def getData(self):\n",
    "        pf = petpy.Petfinder('y1ojzoyO7TvfNHyXfWDZAX9rL1GUIrgbGOnqPvtzAs3FoC0S0O', 'rjK77I88buUdQmqhZ4tcc1HMOevOKgP7NdNM49Hf')\n",
    "        oldest_dogs_df = pf.animals(animal_type = 'dog', status = 'adoptable', organization_id = 'MO228', return_df = True, results_per_page = 50, pages = 2, sort = '-recent')\n",
    "        newest_dogs_df = pf.animals(animal_type = 'dog', status = 'adoptable', organization_id = 'MO228', return_df = True, results_per_page = 50, pages = 2, sort = 'recent')\n",
    "        apamo = oldest_dogs_df.merge(newest_dogs_df, how = 'outer', on = 'id') #second half not saving\n",
    "        return apamo\n",
    "    def capacity(self):\n",
    "        volume = len(self.data)\n",
    "        if volume < 200 and self.override != True:\n",
    "            print(\"APA Missouri has %s dogs, according to Petfinder\" %volume)\n",
    "        else:\n",
    "            print(\"Capacity exceeded, see current atRisk.csv for info\")\n",
    "            self.overflow().to_csv(\"atRisk.csv\")\n",
    "    def overflow(self):\n",
    "        picks = self.data.query('(age == \"Adult\" or age == \"Senior\") and (size == \"Large\" or size == \"Medium\")')[['url', 'gender', 'name', 'description', 'breeds.primary', 'breeds.secondary', 'breeds.mixed', 'breeds.unknown', 'primary_photo_cropped.small']]\n",
    "        return picks\n",
    "    "
   ]
  },
  {
   "cell_type": "code",
   "execution_count": 4,
   "id": "682a3c19",
   "metadata": {},
   "outputs": [],
   "source": [
    "test = dogData()"
   ]
  },
  {
   "cell_type": "code",
   "execution_count": 5,
   "id": "53ccaf79",
   "metadata": {},
   "outputs": [
    {
     "name": "stdout",
     "output_type": "stream",
     "text": [
      "Capacity exceeded, see current atRisk.csv for info\n"
     ]
    }
   ],
   "source": [
    "test.capacity()"
   ]
  },
  {
   "cell_type": "code",
   "execution_count": null,
   "id": "cf65d151",
   "metadata": {},
   "outputs": [],
   "source": []
  }
 ],
 "metadata": {
  "kernelspec": {
   "display_name": "Python 3",
   "language": "python",
   "name": "python3"
  },
  "language_info": {
   "codemirror_mode": {
    "name": "ipython",
    "version": 3
   },
   "file_extension": ".py",
   "mimetype": "text/x-python",
   "name": "python",
   "nbconvert_exporter": "python",
   "pygments_lexer": "ipython3",
   "version": "3.8.12"
  }
 },
 "nbformat": 4,
 "nbformat_minor": 5
}
